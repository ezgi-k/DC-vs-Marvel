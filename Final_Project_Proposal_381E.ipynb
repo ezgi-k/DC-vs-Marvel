{
 "cells": [
  {
   "cell_type": "markdown",
   "metadata": {},
   "source": [
    "# DC vs Marvel - Exploratory Data Analysis and Data Visualization"
   ]
  },
  {
   "cell_type": "markdown",
   "metadata": {},
   "source": [
    "## Team Members"
   ]
  },
  {
   "cell_type": "markdown",
   "metadata": {},
   "source": [
    "Ezgi Kızılay kizilay18@itu.edu.tr 
   ]
  },
  {
   "cell_type": "markdown",
   "metadata": {},
   "source": [
    "## Dataset"
   ]
  },
  {
   "cell_type": "markdown",
   "metadata": {},
   "source": [
    "For this project I will use below datasets and resources:\n",
    "\n",
    "[Dataset-1](https://www.kaggle.com/datasets/claudiodavi/superhero-set?select=heroes_information.csv): taken from kaggle\n",
    "\n",
    "[Dataset-2](https://www.kaggle.com/datasets/claudiodavi/superhero-set?select=super_hero_powers.csv): taken from kaggle\n",
    "\n",
    "[Resource](https://www.superherodb.com/)\n"
   ]
  },
  {
   "cell_type": "markdown",
   "metadata": {},
   "source": [
    "The first dataset contains a csv file which will be using to analyze.\n",
    "\n",
    "This dataset basically consists of personal information about superheros in Marvel and DC universes. There is information about 715 characters in the dataset. The characteristics of the superheroes in the data set such as gender, race, skin color, alignment, eye color, hair color, and height can be reached.\n",
    "\n",
    "The second dataset is also contains a csv file.\n",
    "\n",
    "This dataset provides information about superheros from another perspective. This dataset contains data about their superpower. It can give us 168 feature information per character. Data format in this set is boolean. If character has current power data is True and otherwise data is False. Some superpowers shown in the table are cold resistance, durability, flight, telepathy,size changing, super speed, death touch, dimensional travel etc."
   ]
  },
  {
   "cell_type": "markdown",
   "metadata": {},
   "source": [
    "**Dataset References** \n",
    "\n",
    "Dataset-1 : CLAUDIODAVI, 2017. Kaggle, accessed Nov 2022.\n",
    "\n",
    "Dataset-2 : CLAUDIODAVI, 2017. Kaggle, accessed Nov 2022."
   ]
  },
  {
   "cell_type": "markdown",
   "metadata": {},
   "source": [
    "## Description of the Problem"
   ]
  },
  {
   "cell_type": "markdown",
   "metadata": {},
   "source": [
    "With this data, I want to study how superheros features differ between Marvel and DC. Super Heroes are more prevalent than ever in popular culture nowadays. This universe are an area of interest that fascinates not only the new generation but also the older generation. However Marvel and DC split fans in two. The comparison of these will probably never end. In this project, I aim to analyze the characters in these two universes, compare them and visualize the results, although it will not put an end to the discussions.\n",
    "\n",
    "\n",
    "I aim to seek answers to the following questions and more in this project:\n",
    "\n",
    "- How many observations are there in each comic publisher’s universe?\n",
    "- What is the predominant gender in the characters of DC and Marvel?\n",
    "- What races predominate in the characters of DC and Marvel universe?\n",
    "- General Skill Comparison for DC and Marvel Characters\n",
    "- What are the characters with the highest power in DC and Marvel?\n",
    "- What are the most powerful characters in DC and Marvel?\n",
    "- What superpowers predominate in the characters of DC and Marvel universe?\n",
    "- Visualizations"
   ]
  },
  {
   "cell_type": "markdown",
   "metadata": {},
   "source": [
    "## Atabey's Notes\n",
    "\n",
    "No comments. It looks good."
   ]
  },
  {
   "cell_type": "code",
   "execution_count": null,
   "metadata": {},
   "outputs": [],
   "source": []
  }
 ],
 "metadata": {
  "celltoolbar": "Raw Cell Format",
  "kernelspec": {
   "display_name": "Python 3 (ipykernel)",
   "language": "python",
   "name": "python3"
  },
  "language_info": {
   "codemirror_mode": {
    "name": "ipython",
    "version": 3
   },
   "file_extension": ".py",
   "mimetype": "text/x-python",
   "name": "python",
   "nbconvert_exporter": "python",
   "pygments_lexer": "ipython3",
   "version": "3.10.8"
  }
 },
 "nbformat": 4,
 "nbformat_minor": 4
}
